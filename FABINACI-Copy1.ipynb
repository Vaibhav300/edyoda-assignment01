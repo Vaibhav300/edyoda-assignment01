{
 "cells": [
  {
   "cell_type": "code",
   "execution_count": 2,
   "id": "e5f13246",
   "metadata": {},
   "outputs": [
    {
     "name": "stdout",
     "output_type": "stream",
     "text": [
      "0 1 1 2 3 5 8 13 21 34 "
     ]
    }
   ],
   "source": [
    "x=0\n",
    "y=1\n",
    "count=1\n",
    "s=0\n",
    "\n",
    "\n",
    "while s<50:\n",
    "    print(s,end=\" \")\n",
    "    x=y\n",
    "    y=s\n",
    "    s=x+y"
   ]
  },
  {
   "cell_type": "code",
   "execution_count": null,
   "id": "9ce646c3",
   "metadata": {},
   "outputs": [],
   "source": []
  }
 ],
 "metadata": {
  "kernelspec": {
   "display_name": "Python 3 (ipykernel)",
   "language": "python",
   "name": "python3"
  },
  "language_info": {
   "codemirror_mode": {
    "name": "ipython",
    "version": 3
   },
   "file_extension": ".py",
   "mimetype": "text/x-python",
   "name": "python",
   "nbconvert_exporter": "python",
   "pygments_lexer": "ipython3",
   "version": "3.10.1"
  }
 },
 "nbformat": 4,
 "nbformat_minor": 5
}
